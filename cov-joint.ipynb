{
 "cells": [
  {
   "cell_type": "code",
   "execution_count": 1,
   "metadata": {},
   "outputs": [],
   "source": [
    "import pandas as pd"
   ]
  },
  {
   "cell_type": "code",
   "execution_count": 2,
   "metadata": {},
   "outputs": [
    {
     "data": {
      "text/html": [
       "<div>\n",
       "<style scoped>\n",
       "    .dataframe tbody tr th:only-of-type {\n",
       "        vertical-align: middle;\n",
       "    }\n",
       "\n",
       "    .dataframe tbody tr th {\n",
       "        vertical-align: top;\n",
       "    }\n",
       "\n",
       "    .dataframe thead th {\n",
       "        text-align: right;\n",
       "    }\n",
       "</style>\n",
       "<table border=\"1\" class=\"dataframe\">\n",
       "  <thead>\n",
       "    <tr style=\"text-align: right;\">\n",
       "      <th></th>\n",
       "      <th>family_income</th>\n",
       "      <th>gpa</th>\n",
       "      <th>parent_avg_age</th>\n",
       "    </tr>\n",
       "  </thead>\n",
       "  <tbody>\n",
       "    <tr>\n",
       "      <th>0</th>\n",
       "      <td>31402.0</td>\n",
       "      <td>3.18</td>\n",
       "      <td>32</td>\n",
       "    </tr>\n",
       "    <tr>\n",
       "      <th>1</th>\n",
       "      <td>32247.0</td>\n",
       "      <td>2.98</td>\n",
       "      <td>48</td>\n",
       "    </tr>\n",
       "    <tr>\n",
       "      <th>2</th>\n",
       "      <td>34732.0</td>\n",
       "      <td>2.85</td>\n",
       "      <td>61</td>\n",
       "    </tr>\n",
       "  </tbody>\n",
       "</table>\n",
       "</div>"
      ],
      "text/plain": [
       "   family_income   gpa  parent_avg_age\n",
       "0        31402.0  3.18              32\n",
       "1        32247.0  2.98              48\n",
       "2        34732.0  2.85              61"
      ]
     },
     "execution_count": 2,
     "metadata": {},
     "output_type": "execute_result"
    }
   ],
   "source": [
    "df = pd.read_csv('data/admissions.csv')\n",
    "df.head(3)"
   ]
  },
  {
   "cell_type": "code",
   "execution_count": 3,
   "metadata": {},
   "outputs": [
    {
     "name": "stdout",
     "output_type": "stream",
     "text": [
      "4015.2990850274873\n",
      "-1226.3262797340344\n",
      "-0.028785259926177507\n"
     ]
    },
    {
     "data": {
      "text/html": [
       "<div>\n",
       "<style scoped>\n",
       "    .dataframe tbody tr th:only-of-type {\n",
       "        vertical-align: middle;\n",
       "    }\n",
       "\n",
       "    .dataframe tbody tr th {\n",
       "        vertical-align: top;\n",
       "    }\n",
       "\n",
       "    .dataframe thead th {\n",
       "        text-align: right;\n",
       "    }\n",
       "</style>\n",
       "<table border=\"1\" class=\"dataframe\">\n",
       "  <thead>\n",
       "    <tr style=\"text-align: right;\">\n",
       "      <th></th>\n",
       "      <th>family_income</th>\n",
       "      <th>gpa</th>\n",
       "      <th>parent_avg_age</th>\n",
       "    </tr>\n",
       "  </thead>\n",
       "  <tbody>\n",
       "    <tr>\n",
       "      <th>family_income</th>\n",
       "      <td>3.329410e+08</td>\n",
       "      <td>4015.299085</td>\n",
       "      <td>-1226.326280</td>\n",
       "    </tr>\n",
       "    <tr>\n",
       "      <th>gpa</th>\n",
       "      <td>4.015299e+03</td>\n",
       "      <td>0.087891</td>\n",
       "      <td>-0.028785</td>\n",
       "    </tr>\n",
       "    <tr>\n",
       "      <th>parent_avg_age</th>\n",
       "      <td>-1.226326e+03</td>\n",
       "      <td>-0.028785</td>\n",
       "      <td>112.977442</td>\n",
       "    </tr>\n",
       "  </tbody>\n",
       "</table>\n",
       "</div>"
      ],
      "text/plain": [
       "                family_income          gpa  parent_avg_age\n",
       "family_income    3.329410e+08  4015.299085    -1226.326280\n",
       "gpa              4.015299e+03     0.087891       -0.028785\n",
       "parent_avg_age  -1.226326e+03    -0.028785      112.977442"
      ]
     },
     "execution_count": 3,
     "metadata": {},
     "output_type": "execute_result"
    }
   ],
   "source": [
    "def covariance(x1, x2):\n",
    "    return np.sum((x1 - np.mean(x1)) * (x2 - np.mean(x2))) / (len(x1) - 1.)\n",
    "\n",
    "print(covariance(df.family_income, df.gpa))\n",
    "print(covariance(df.family_income, df.parent_avg_age))\n",
    "print(covariance(df.gpa, df.parent_avg_age))\n",
    "\n",
    "#Check your results\n",
    "df.cov()"
   ]
  },
  {
   "cell_type": "code",
   "execution_count": 4,
   "metadata": {},
   "outputs": [
    {
     "name": "stdout",
     "output_type": "stream",
     "text": [
      "0.7423369244946536\n",
      "-0.0063236235651676735\n",
      "-0.009135685085790381\n"
     ]
    },
    {
     "data": {
      "text/html": [
       "<div>\n",
       "<style scoped>\n",
       "    .dataframe tbody tr th:only-of-type {\n",
       "        vertical-align: middle;\n",
       "    }\n",
       "\n",
       "    .dataframe tbody tr th {\n",
       "        vertical-align: top;\n",
       "    }\n",
       "\n",
       "    .dataframe thead th {\n",
       "        text-align: right;\n",
       "    }\n",
       "</style>\n",
       "<table border=\"1\" class=\"dataframe\">\n",
       "  <thead>\n",
       "    <tr style=\"text-align: right;\">\n",
       "      <th></th>\n",
       "      <th>family_income</th>\n",
       "      <th>gpa</th>\n",
       "      <th>parent_avg_age</th>\n",
       "    </tr>\n",
       "  </thead>\n",
       "  <tbody>\n",
       "    <tr>\n",
       "      <th>family_income</th>\n",
       "      <td>1.000000</td>\n",
       "      <td>0.742269</td>\n",
       "      <td>-0.006323</td>\n",
       "    </tr>\n",
       "    <tr>\n",
       "      <th>gpa</th>\n",
       "      <td>0.742269</td>\n",
       "      <td>1.000000</td>\n",
       "      <td>-0.009135</td>\n",
       "    </tr>\n",
       "    <tr>\n",
       "      <th>parent_avg_age</th>\n",
       "      <td>-0.006323</td>\n",
       "      <td>-0.009135</td>\n",
       "      <td>1.000000</td>\n",
       "    </tr>\n",
       "  </tbody>\n",
       "</table>\n",
       "</div>"
      ],
      "text/plain": [
       "                family_income       gpa  parent_avg_age\n",
       "family_income        1.000000  0.742269       -0.006323\n",
       "gpa                  0.742269  1.000000       -0.009135\n",
       "parent_avg_age      -0.006323 -0.009135        1.000000"
      ]
     },
     "execution_count": 4,
     "metadata": {},
     "output_type": "execute_result"
    }
   ],
   "source": [
    "def correlation(x1, x2):\n",
    "    std_prod = np.std(x1) * np.std(x2)\n",
    "    covar = covariance(x1, x2)\n",
    "    return covar / std_prod\n",
    "\n",
    "print(correlation(df.family_income, df.gpa))\n",
    "print(correlation(df.family_income, df.parent_avg_age))\n",
    "print(correlation(df.gpa, df.parent_avg_age))\n",
    "\n",
    "#Check your results\n",
    "df.corr()"
   ]
  },
  {
   "cell_type": "code",
   "execution_count": 5,
   "metadata": {},
   "outputs": [],
   "source": [
    "# Categorize the family income\n",
    "def income_category(income):\n",
    "    if income <= 26832:\n",
    "        return 'low'\n",
    "    elif income <= 37510:\n",
    "        return 'medium'\n",
    "    else:\n",
    "        return 'high'\n",
    "# Apply the categorization and define a new column \n",
    "df['family_income_cat'] = df.family_income.apply(income_category)"
   ]
  },
  {
   "cell_type": "code",
   "execution_count": 6,
   "metadata": {},
   "outputs": [
    {
     "data": {
      "text/html": [
       "<div>\n",
       "<style scoped>\n",
       "    .dataframe tbody tr th:only-of-type {\n",
       "        vertical-align: middle;\n",
       "    }\n",
       "\n",
       "    .dataframe tbody tr th {\n",
       "        vertical-align: top;\n",
       "    }\n",
       "\n",
       "    .dataframe thead th {\n",
       "        text-align: right;\n",
       "    }\n",
       "</style>\n",
       "<table border=\"1\" class=\"dataframe\">\n",
       "  <thead>\n",
       "    <tr style=\"text-align: right;\">\n",
       "      <th></th>\n",
       "      <th>family_income</th>\n",
       "      <th>gpa</th>\n",
       "      <th>parent_avg_age</th>\n",
       "      <th>family_income_cat</th>\n",
       "    </tr>\n",
       "  </thead>\n",
       "  <tbody>\n",
       "    <tr>\n",
       "      <th>0</th>\n",
       "      <td>31402.0</td>\n",
       "      <td>3.18</td>\n",
       "      <td>32</td>\n",
       "      <td>medium</td>\n",
       "    </tr>\n",
       "    <tr>\n",
       "      <th>1</th>\n",
       "      <td>32247.0</td>\n",
       "      <td>2.98</td>\n",
       "      <td>48</td>\n",
       "      <td>medium</td>\n",
       "    </tr>\n",
       "    <tr>\n",
       "      <th>2</th>\n",
       "      <td>34732.0</td>\n",
       "      <td>2.85</td>\n",
       "      <td>61</td>\n",
       "      <td>medium</td>\n",
       "    </tr>\n",
       "  </tbody>\n",
       "</table>\n",
       "</div>"
      ],
      "text/plain": [
       "   family_income   gpa  parent_avg_age family_income_cat\n",
       "0        31402.0  3.18              32            medium\n",
       "1        32247.0  2.98              48            medium\n",
       "2        34732.0  2.85              61            medium"
      ]
     },
     "execution_count": 6,
     "metadata": {},
     "output_type": "execute_result"
    }
   ],
   "source": [
    "df.head(3)"
   ]
  },
  {
   "cell_type": "code",
   "execution_count": 8,
   "metadata": {},
   "outputs": [
    {
     "data": {
      "text/plain": [
       "high      5496\n",
       "medium    2748\n",
       "low       2748\n",
       "Name: family_income_cat, dtype: int64"
      ]
     },
     "execution_count": 8,
     "metadata": {},
     "output_type": "execute_result"
    }
   ],
   "source": [
    "df.family_income_cat.value_counts()"
   ]
  },
  {
   "cell_type": "code",
   "execution_count": 13,
   "metadata": {},
   "outputs": [
    {
     "data": {
      "image/png": "[encoded data removed]",
      "text/plain": [
       "<Figure size 864x360 with 1 Axes>"
      ]
     },
     "metadata": {
      "needs_background": "light"
     },
     "output_type": "display_data"
    }
   ],
   "source": [
    "# Get the conditional distribution of GPA given an income class\n",
    "low_income_gpa = df[df['family_income_cat'] == 'low'].gpa\n",
    "medium_income_gpa = df[df['family_income_cat'] == 'medium'].gpa\n",
    "high_income_gpa = df[df['family_income_cat'] == 'high'].gpa\n",
    "\n",
    "# Plot the distributions\n",
    "from scipy.stats.kde import gaussian_kde\n",
    "def plot_smooth(gpa_samp, label):\n",
    "    my_pdf = gaussian_kde(gpa_samp)\n",
    "    x = np.linspace(min(gpa_samp) , max(gpa_samp))\n",
    "    plt.plot(x, my_pdf(x), label=label)\n",
    " \n",
    "fig = plt.figure(figsize=(12, 5))\n",
    "plot_smooth(low_income_gpa, 'low income')\n",
    "plot_smooth(medium_income_gpa, 'medium income')\n",
    "plot_smooth(high_income_gpa, 'high income')\n",
    "plt.xlabel('GPA', fontsize=14, fontweight='bold')\n",
    "plt.ylabel('Probability Density', fontsize=14, fontweight='bold')\n",
    "plt.legend();"
   ]
  },
  {
   "cell_type": "code",
   "execution_count": 15,
   "metadata": {},
   "outputs": [
    {
     "name": "stdout",
     "output_type": "stream",
     "text": [
      "90th percentile GPA for low income class 3.01\n",
      "90th percentile GPA for medium income class 3.26\n",
      "90th percentile GPA for high income class 3.49\n"
     ]
    }
   ],
   "source": [
    "# The 90th percentile GPA for each class\n",
    "print('90th percentile GPA for low income class', np.percentile(low_income_gpa, 90))\n",
    "print('90th percentile GPA for medium income class', np.percentile(medium_income_gpa, 90))\n",
    "print('90th percentile GPA for high income class', np.percentile(high_income_gpa, 90))"
   ]
  },
  {
   "cell_type": "code",
   "execution_count": null,
   "metadata": {},
   "outputs": [],
   "source": []
  }
 ],
 "metadata": {
  "kernelspec": {
   "display_name": "Python 3",
   "language": "python",
   "name": "python3"
  },
  "language_info": {
   "codemirror_mode": {
    "name": "ipython",
    "version": 3
   },
   "file_extension": ".py",
   "mimetype": "text/x-python",
   "name": "python",
   "nbconvert_exporter": "python",
   "pygments_lexer": "ipython3",
   "version": "3.7.2"
  }
 },
 "nbformat": 4,
 "nbformat_minor": 2
}
